{
  "nbformat": 4,
  "nbformat_minor": 0,
  "metadata": {
    "colab": {
      "name": "Basic_Analyzing_Data .ipynb",
      "provenance": [],
      "collapsed_sections": []
    },
    "kernelspec": {
      "name": "python3",
      "display_name": "Python 3"
    },
    "language_info": {
      "name": "python"
    }
  },
  "cells": [
    {
      "cell_type": "markdown",
      "metadata": {
        "id": "DonaXDrxy84S"
      },
      "source": [
        "Mounting Drive (It will help to access Drive material) "
      ]
    },
    {
      "cell_type": "code",
      "metadata": {
        "colab": {
          "base_uri": "https://localhost:8080/"
        },
        "id": "wT6TZAX4yBh_",
        "outputId": "a1bf6cf9-f7a5-40f5-c9c6-2137222b6aa0"
      },
      "source": [
        "from google.colab import drive\n",
        "drive.mount('/content/drive')"
      ],
      "execution_count": 1,
      "outputs": [
        {
          "output_type": "stream",
          "text": [
            "Mounted at /content/drive\n"
          ],
          "name": "stdout"
        }
      ]
    },
    {
      "cell_type": "markdown",
      "metadata": {
        "id": "DX9oRQAXzmxs"
      },
      "source": [
        "Importing Certain libraries"
      ]
    },
    {
      "cell_type": "code",
      "metadata": {
        "id": "SDyqUIVFy2TD"
      },
      "source": [
        "from tensorflow.keras.preprocessing.image import ImageDataGenerator\n",
        "from tensorflow.keras.preprocessing import image\n",
        "import matplotlib.pyplot as plt\n",
        "import plotly.express as px\n",
        "from PIL import Image\n",
        "import pandas as pd\n",
        "import numpy as np\n",
        "import cv2 as cv\n",
        "import glob\n",
        "import os"
      ],
      "execution_count": 2,
      "outputs": []
    },
    {
      "cell_type": "markdown",
      "metadata": {
        "id": "PAVJibgZz57B"
      },
      "source": [
        "To See the list of Content "
      ]
    },
    {
      "cell_type": "code",
      "metadata": {
        "colab": {
          "base_uri": "https://localhost:8080/"
        },
        "id": "v2e9QmDLzzNf",
        "outputId": "b5025215-bd3d-4996-d058-c87d794b1e41"
      },
      "source": [
        "DIR = \"/content/drive/MyDrive/Cont\"\n",
        "os.listdir(DIR)"
      ],
      "execution_count": 3,
      "outputs": [
        {
          "output_type": "execute_result",
          "data": {
            "text/plain": [
              "['Apricot',\n",
              " 'Cauliflower',\n",
              " 'chilli pepper(C)',\n",
              " 'Chestnut(C)',\n",
              " 'capsicum',\n",
              " 'cabbage',\n",
              " 'cherry wax red',\n",
              " 'Blueberry',\n",
              " 'carrot',\n",
              " 'Banana(C)',\n",
              " 'Granadilla(C)',\n",
              " 'cucumber(C)',\n",
              " 'Clementine(C)',\n",
              " 'corn(C)',\n",
              " 'ginger(C)',\n",
              " 'Coconut(C)',\n",
              " 'fig(C)',\n",
              " 'eggplant(C)',\n",
              " 'Garlic(C)',\n",
              " 'Dates(C)',\n",
              " 'Grape Blue(C)',\n",
              " 'Papaya(C)',\n",
              " 'lettuce(C)',\n",
              " 'Lemon(C)',\n",
              " 'Potato(C)',\n",
              " 'Lichi(C)',\n",
              " 'onion(C)',\n",
              " 'mango(C)',\n",
              " 'peas(C)',\n",
              " 'Pumpkin(C)',\n",
              " 'Tomato(C)',\n",
              " 'rotten Apple granny smith',\n",
              " 'rotten Avocado',\n",
              " 'Watermelon(C)',\n",
              " 'rotten Apple pink lady',\n",
              " 'Strawberry(C)',\n",
              " 'spinach(C)']"
            ]
          },
          "metadata": {
            "tags": []
          },
          "execution_count": 3
        }
      ]
    },
    {
      "cell_type": "code",
      "metadata": {
        "colab": {
          "base_uri": "https://localhost:8080/"
        },
        "id": "8hBmm6Qc0NSg",
        "outputId": "5c7de266-b108-416f-d2d2-8fb0678c77b8"
      },
      "source": [
        "DIR1 = \"/content/drive/MyDrive/Edib\"\n",
        "os.listdir(DIR1)"
      ],
      "execution_count": 4,
      "outputs": [
        {
          "output_type": "execute_result",
          "data": {
            "text/plain": [
              "['Capsicum(E)',\n",
              " 'Avocado(E)',\n",
              " 'Apricot(E)',\n",
              " 'Apple Granny Smith(E)',\n",
              " 'Blueberry(E)',\n",
              " 'Carrot(E)',\n",
              " 'Cabbage(E)',\n",
              " 'Apple Pink Lady(E)',\n",
              " 'Cauliflower(E)',\n",
              " 'Banana(E)',\n",
              " 'Corn(E)',\n",
              " 'Chilli Pepper(E)',\n",
              " 'Eggplant(E)',\n",
              " 'Dates(E)',\n",
              " 'Coconut(E)',\n",
              " 'Clementine(E)',\n",
              " 'Cucumber(E)',\n",
              " 'Cherry Wax Red(E)',\n",
              " 'chestnut(E)',\n",
              " 'Fig(E)',\n",
              " 'Lettuce(E)',\n",
              " 'Lemon(E)',\n",
              " 'Papaya(E)',\n",
              " 'Lichi(E)',\n",
              " 'Garlic(E)',\n",
              " 'Ginger(E)',\n",
              " 'onion(E)',\n",
              " 'Mango(E)',\n",
              " 'Grape Blue(E)',\n",
              " 'Granadilla(E)',\n",
              " 'Potato(E)',\n",
              " 'Watermelon(E)',\n",
              " 'Spinach(E)',\n",
              " 'tomato(E)',\n",
              " 'Pumpkin(E)',\n",
              " 'Strawberry(E)',\n",
              " 'Peas(E)']"
            ]
          },
          "metadata": {
            "tags": []
          },
          "execution_count": 4
        }
      ]
    },
    {
      "cell_type": "markdown",
      "metadata": {
        "id": "_qJJ4mhB0fL-"
      },
      "source": [
        "Making list which will containg 3 element(For Contaminated)"
      ]
    },
    {
      "cell_type": "code",
      "metadata": {
        "id": "965n9WUO0coi"
      },
      "source": [
        "#Contaminated\n",
        "cat_con = ['spinach(C)',\n",
        " 'peas(C)',\n",
        " 'ginger(C)']"
      ],
      "execution_count": 5,
      "outputs": []
    },
    {
      "cell_type": "code",
      "metadata": {
        "colab": {
          "base_uri": "https://localhost:8080/"
        },
        "id": "zr0tRabN1XIf",
        "outputId": "493770e1-9205-4433-e931-adea6ece1afc"
      },
      "source": [
        "#To see the path \n",
        "for x in cat_con:\n",
        "  newp = os.path.join(DIR,x)\n",
        "  print(newp)"
      ],
      "execution_count": 8,
      "outputs": [
        {
          "output_type": "stream",
          "text": [
            "/content/drive/MyDrive/Cont/spinach(C)\n",
            "/content/drive/MyDrive/Cont/peas(C)\n",
            "/content/drive/MyDrive/Cont/ginger(C)\n"
          ],
          "name": "stdout"
        }
      ]
    },
    {
      "cell_type": "markdown",
      "metadata": {
        "id": "eBMvUTSm09OZ"
      },
      "source": [
        "Making list which will containg 3 element(For Edible)"
      ]
    },
    {
      "cell_type": "code",
      "metadata": {
        "id": "l9sakFCp1FTk"
      },
      "source": [
        "#Edible\n",
        "cat_edi = ['Lettuce(E)',\n",
        " 'Garlic(E)',\n",
        " 'Spinach(E)']"
      ],
      "execution_count": 6,
      "outputs": []
    },
    {
      "cell_type": "code",
      "metadata": {
        "colab": {
          "base_uri": "https://localhost:8080/"
        },
        "id": "UtKJblfl1k13",
        "outputId": "6e7818d5-e2e3-47ac-d3c7-3cd292e6459b"
      },
      "source": [
        "#To see the path \n",
        "for x in cat_edi:\n",
        "  newp = os.path.join(DIR,x)\n",
        "  print(newp)"
      ],
      "execution_count": 9,
      "outputs": [
        {
          "output_type": "stream",
          "text": [
            "/content/drive/MyDrive/Cont/Lettuce(E)\n",
            "/content/drive/MyDrive/Cont/Garlic(E)\n",
            "/content/drive/MyDrive/Cont/Spinach(E)\n"
          ],
          "name": "stdout"
        }
      ]
    },
    {
      "cell_type": "markdown",
      "metadata": {
        "id": "FezBaxKi10D3"
      },
      "source": [
        "To see images of dataset (which intialises in list)"
      ]
    },
    {
      "cell_type": "code",
      "metadata": {
        "id": "FV-b-7ss2wyr"
      },
      "source": [
        "for x in cat_con:\n",
        "  newp = os.path.join(DIR,x)\n",
        "  for j in os.listdir(newp):\n",
        "    new = os.path.join(newp,j)\n",
        "    img = cv.imread(new)\n",
        "    plt.imshow(cv.cvtColor(img, cv.COLOR_BGR2RGB))\n",
        " \n",
        "    plt.show()"
      ],
      "execution_count": 18,
      "outputs": []
    },
    {
      "cell_type": "code",
      "metadata": {
        "id": "PyxPa1BG2_qz"
      },
      "source": [
        "for y in cat_edi:\n",
        "  newp1 = os.path.join(DIR1,y)\n",
        "  for z in os.listdir(newp1):\n",
        "    new2 = os.path.join(newp1,z)\n",
        "    img = cv.imread(new2)\n",
        "    plt.imshow(cv.cvtColor(img, cv.COLOR_BGR2RGB))\n",
        "    \n",
        "    plt.show()"
      ],
      "execution_count": null,
      "outputs": []
    },
    {
      "cell_type": "markdown",
      "metadata": {
        "id": "ARs3g-qR3Tlp"
      },
      "source": [
        "For single Image "
      ]
    },
    {
      "cell_type": "code",
      "metadata": {
        "colab": {
          "base_uri": "https://localhost:8080/",
          "height": 285
        },
        "id": "Sb3oZ2AY3QdV",
        "outputId": "690b794d-061d-4b2f-dfc5-08194a4f668b"
      },
      "source": [
        "#To load\n",
        "img_1 = image.load_img(\"/content/drive/MyDrive/Edib/Apricot(E)/125_100.jpg\")\n",
        "\n",
        "#To show \n",
        "plt.imshow(img_1)\n",
        "\n",
        "#To see shape of image\n",
        "cv.imread(\"/content/drive/MyDrive/Edib/Apricot(E)/126_100.jpg\").shape\n"
      ],
      "execution_count": 13,
      "outputs": [
        {
          "output_type": "execute_result",
          "data": {
            "text/plain": [
              "(100, 100, 3)"
            ]
          },
          "metadata": {
            "tags": []
          },
          "execution_count": 13
        },
        {
          "output_type": "display_data",
          "data": {
            "image/png": "[encoded data removed]",
            "text/plain": [
              "<Figure size 432x288 with 1 Axes>"
            ]
          },
          "metadata": {
            "tags": [],
            "needs_background": "light"
          }
        }
      ]
    },
    {
      "cell_type": "markdown",
      "metadata": {
        "id": "ObEH4eQK4IeN"
      },
      "source": [
        "To Take folderwise count of images present"
      ]
    },
    {
      "cell_type": "code",
      "metadata": {
        "colab": {
          "base_uri": "https://localhost:8080/"
        },
        "id": "u-qT0EuZ3-UV",
        "outputId": "b359bdc6-4c35-48a4-eeb1-01d3b2d5809e"
      },
      "source": [
        "import os\n",
        "dir = \"/content/drive/MyDrive/Edib\"\n",
        "\n",
        "for x in os.listdir(dir):\n",
        "  print(f\"{x}={len(os.listdir(os.path.join(dir,x)))}\")"
      ],
      "execution_count": 14,
      "outputs": [
        {
          "output_type": "stream",
          "text": [
            "Capsicum(E)=100\n",
            "Avocado(E)=100\n",
            "Apricot(E)=109\n",
            "Apple Granny Smith(E)=95\n",
            "Blueberry(E)=98\n",
            "Carrot(E)=130\n",
            "Cabbage(E)=90\n",
            "Apple Pink Lady(E)=70\n",
            "Cauliflower(E)=100\n",
            "Banana(E)=100\n",
            "Corn(E)=135\n",
            "Chilli Pepper(E)=77\n",
            "Eggplant(E)=129\n",
            "Dates(E)=30\n",
            "Coconut(E)=60\n",
            "Clementine(E)=120\n",
            "Cucumber(E)=80\n",
            "Cherry Wax Red(E)=100\n",
            "chestnut(E)=100\n",
            "Fig(E)=100\n",
            "Lettuce(E)=77\n",
            "Lemon(E)=150\n",
            "Papaya(E)=90\n",
            "Lichi(E)=71\n",
            "Garlic(E)=72\n",
            "Ginger(E)=80\n",
            "onion(E)=150\n",
            "Mango(E)=119\n",
            "Grape Blue(E)=60\n",
            "Granadilla(E)=100\n",
            "Potato(E)=150\n",
            "Watermelon(E)=60\n",
            "Spinach(E)=30\n",
            "tomato(E)=93\n",
            "Pumpkin(E)=71\n",
            "Strawberry(E)=115\n",
            "Peas(E)=80\n"
          ],
          "name": "stdout"
        }
      ]
    },
    {
      "cell_type": "code",
      "metadata": {
        "colab": {
          "base_uri": "https://localhost:8080/"
        },
        "id": "VW7MGAdd4Vc6",
        "outputId": "d9f7acfd-4a70-416e-c68d-07623c940725"
      },
      "source": [
        "import os\n",
        "dir = \"/content/drive/MyDrive/Cont\"\n",
        "\n",
        "for x in os.listdir(dir):\n",
        "  print(f\"{x}={len(os.listdir(os.path.join(dir,x)))}\")"
      ],
      "execution_count": 15,
      "outputs": [
        {
          "output_type": "stream",
          "text": [
            "Apricot=109\n",
            "Cauliflower=99\n",
            "chilli pepper(C)=77\n",
            "Chestnut(C)=100\n",
            "capsicum=100\n",
            "cabbage=91\n",
            "cherry wax red=100\n",
            "Blueberry=98\n",
            "carrot=130\n",
            "Banana(C)=100\n",
            "Granadilla(C)=100\n",
            "cucumber(C)=80\n",
            "Clementine(C)=119\n",
            "corn(C)=135\n",
            "ginger(C)=75\n",
            "Coconut(C)=57\n",
            "fig(C)=100\n",
            "eggplant(C)=129\n",
            "Garlic(C)=72\n",
            "Dates(C)=33\n",
            "Grape Blue(C)=59\n",
            "Papaya(C)=87\n",
            "lettuce(C)=74\n",
            "Lemon(C)=149\n",
            "Potato(C)=152\n",
            "Lichi(C)=69\n",
            "onion(C)=148\n",
            "mango(C)=119\n",
            "peas(C)=78\n",
            "Pumpkin(C)=70\n",
            "Tomato(C)=92\n",
            "rotten Apple granny smith=95\n",
            "rotten Avocado=100\n",
            "Watermelon(C)=61\n",
            "rotten Apple pink lady=71\n",
            "Strawberry(C)=114\n",
            "spinach(C)=29\n"
          ],
          "name": "stdout"
        }
      ]
    },
    {
      "cell_type": "markdown",
      "metadata": {
        "id": "M2LxqyUj4ke2"
      },
      "source": [
        "Total count of images in one class"
      ]
    },
    {
      "cell_type": "code",
      "metadata": {
        "colab": {
          "base_uri": "https://localhost:8080/"
        },
        "id": "8eoTSSzi4kC8",
        "outputId": "41af79b2-b3e7-404e-b7cf-8266b7a2ebe8"
      },
      "source": [
        "#For Contaminated\n",
        "path=\"/content/drive/MyDrive/Cont\"\n",
        "lst=[]\n",
        "for x in os.listdir(path):\n",
        "  z=os.path.join(path,x)\n",
        "  lst.append(len(os.listdir(z)))\n",
        "print(sum(lst))\n",
        "contaminated=(sum(lst))"
      ],
      "execution_count": 16,
      "outputs": [
        {
          "output_type": "stream",
          "text": [
            "3471\n"
          ],
          "name": "stdout"
        }
      ]
    },
    {
      "cell_type": "code",
      "metadata": {
        "colab": {
          "base_uri": "https://localhost:8080/"
        },
        "id": "OtjgxKrA43-9",
        "outputId": "4d997dc4-fa2a-4945-dd19-fe3dd56d80ce"
      },
      "source": [
        "#For Edible\n",
        "path=\"/content/drive/MyDrive/Edib\"\n",
        "lst=[]\n",
        "for x in os.listdir(path):\n",
        "  z=os.path.join(path,x)\n",
        "  lst.append(len(os.listdir(z)))\n",
        "print(sum(lst))\n",
        "edible=(sum(lst))"
      ],
      "execution_count": 17,
      "outputs": [
        {
          "output_type": "stream",
          "text": [
            "3491\n"
          ],
          "name": "stdout"
        }
      ]
    }
  ]
}